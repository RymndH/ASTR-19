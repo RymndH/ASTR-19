{
 "cells": [
  {
   "cell_type": "raw",
   "id": "21164373-ebd7-4e0b-abf4-9c41531f472f",
   "metadata": {},
   "source": [
    "'''\n",
    "Write cells that create an array x ranging from [0,1] in 100 steps and that defines a function that returns exp(x).  \n",
    "In a new cell use the function to set y=exp(x), and then plot x vs. y. \n",
    "Label the x-axis as “Time [milliseconds]” and the y-axis as “Awesomeness”. Save the figure as a PDF.  \n",
    "'''\n",
    "\n",
    "\n"
   ]
  },
  {
   "cell_type": "code",
   "execution_count": 8,
   "id": "51a180c7-1649-4aa5-95e7-8b1b8532de85",
   "metadata": {},
   "outputs": [],
   "source": [
    "import matplotlib as mp\n",
    "import numpy as np\n",
    "import math\n",
    "import sys"
   ]
  },
  {
   "cell_type": "code",
   "execution_count": 10,
   "id": "6b4ffaa7-63a3-4b5c-b56b-840b1db1460e",
   "metadata": {},
   "outputs": [
    {
     "ename": "NameError",
     "evalue": "name 'numpy' is not defined",
     "output_type": "error",
     "traceback": [
      "\u001b[0;31m---------------------------------------------------------------------------\u001b[0m",
      "\u001b[0;31mNameError\u001b[0m                                 Traceback (most recent call last)",
      "Cell \u001b[0;32mIn[10], line 1\u001b[0m\n\u001b[0;32m----> 1\u001b[0m x \u001b[38;5;241m=\u001b[39m \u001b[43mnumpy\u001b[49m\u001b[38;5;241m.\u001b[39marray([\u001b[38;5;241m1\u001b[39m,\u001b[38;5;241m2\u001b[39m])\n\u001b[1;32m      3\u001b[0m \u001b[38;5;66;03m#exp(x) \u001b[39;00m\n\u001b[1;32m      4\u001b[0m \u001b[38;5;66;03m#def createarray:\u001b[39;00m\n",
      "\u001b[0;31mNameError\u001b[0m: name 'numpy' is not defined"
     ]
    }
   ],
   "source": [
    "x = numpy.array([1,2])\n",
    "\n",
    "#exp(x) \n",
    "#def createarray:\n",
    "\n"
   ]
  },
  {
   "cell_type": "code",
   "execution_count": null,
   "id": "ae0b282a-394c-4004-8136-26baa471514a",
   "metadata": {},
   "outputs": [],
   "source": []
  }
 ],
 "metadata": {
  "kernelspec": {
   "display_name": "Python 3 (ipykernel)",
   "language": "python",
   "name": "python3"
  },
  "language_info": {
   "codemirror_mode": {
    "name": "ipython",
    "version": 3
   },
   "file_extension": ".py",
   "mimetype": "text/x-python",
   "name": "python",
   "nbconvert_exporter": "python",
   "pygments_lexer": "ipython3",
   "version": "3.12.0"
  }
 },
 "nbformat": 4,
 "nbformat_minor": 5
}
