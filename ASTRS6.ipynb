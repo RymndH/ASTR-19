{
 "cells": [
  {
   "cell_type": "markdown",
   "id": "68076507-c2e7-42be-a851-eac5bd6fbdc0",
   "metadata": {},
   "source": [
    "Create a Jupyter Notebook where, in separate cells, you define functions that return sin(x) and cos(x).\n",
    "Use Markdown cells to comment your Notebook, and describe what each function does. \n",
    "Create a third Python cell that will tabulate sin(x) and cos(x) using these previously defined functions vs. x, \n",
    "where x is tabulated between 0 and 2pi with a thousand entries. \n",
    "Write a fourth Python cell that will use a for loop to print out the first 10 values of x, sin(x), and cos(x) in columns."
   ]
  },
  {
   "cell_type": "markdown",
   "id": "f0839d75-8190-4ad6-8643-0473551d7759",
   "metadata": {},
   "source": [
    "Creating function that returns sin(x)"
   ]
  },
  {
   "cell_type": "code",
   "execution_count": 76,
   "id": "acf367d4-bf00-48e7-a279-6d260e0be946",
   "metadata": {},
   "outputs": [],
   "source": [
    "import numpy as np\n",
    "import math\n",
    "def sinfunc(x):\n",
    "    return np.sin(x)"
   ]
  },
  {
   "cell_type": "markdown",
   "id": "41c134f2-de2c-4732-95cb-6eb20f5f41cf",
   "metadata": {},
   "source": [
    "Creating function that returns cos(x)"
   ]
  },
  {
   "cell_type": "code",
   "execution_count": 77,
   "id": "11f43b26-fffd-4ab9-ae06-43b25327ce4f",
   "metadata": {},
   "outputs": [],
   "source": [
    "def cosfunc(x):\n",
    "    return np.cos(x)"
   ]
  },
  {
   "cell_type": "markdown",
   "id": "dc39979c-5f03-4a58-835a-927d71d8f037",
   "metadata": {},
   "source": [
    "Creating a function that lists 1000 values of x between 0 and 2pi. Also appends xvalue,sinvalue, and cosvalue to their respective lists."
   ]
  },
  {
   "cell_type": "code",
   "execution_count": 78,
   "id": "1ca752c9-62f8-4cc0-89f4-69cb9f0ed666",
   "metadata": {},
   "outputs": [],
   "source": [
    "xvalue = []\n",
    "sinvalue = []\n",
    "cosvalue = []\n",
    "\n",
    "def tabulate():\n",
    "    x=0\n",
    "    for i in range(1001):\n",
    "    \n",
    "        \n",
    "        \n",
    "        xvalue.append(round(x,4))\n",
    "        sinvalue.append(round(sinfunc(x),4))\n",
    "        cosvalue.append(round(cosfunc(x),4))\n",
    "        x += ((2*math.pi)/1000)\n",
    "        \n",
    "tabulate()"
   ]
  },
  {
   "cell_type": "markdown",
   "id": "8d036850-9dcd-4b51-bbec-2cd417f4c285",
   "metadata": {},
   "source": [
    "Prints out first 10 values of x,sin(x),and cos(x) in columns"
   ]
  },
  {
   "cell_type": "code",
   "execution_count": 79,
   "id": "95ba2892-65a4-43ec-bce8-4d441c191468",
   "metadata": {},
   "outputs": [
    {
     "name": "stdout",
     "output_type": "stream",
     "text": [
      "0.0000 | 0.0000 | 1.0000\n",
      "0.0063 | 0.0063 | 1.0000\n",
      "0.0126 | 0.0126 | 0.9999\n",
      "0.0188 | 0.0188 | 0.9998\n",
      "0.0251 | 0.0251 | 0.9997\n",
      "0.0314 | 0.0314 | 0.9995\n",
      "0.0377 | 0.0377 | 0.9993\n",
      "0.0440 | 0.0440 | 0.9990\n",
      "0.0503 | 0.0502 | 0.9987\n",
      "0.0565 | 0.0565 | 0.9984\n"
     ]
    }
   ],
   "source": [
    "\n",
    "def tenval():\n",
    "    for i in range(10):\n",
    "        print(f\"{xvalue[i]:.4f} | {sinvalue[i]:.4f} | {cosvalue[i]:.4f}\" )\n",
    "\n",
    "tenval()\n"
   ]
  }
 ],
 "metadata": {
  "kernelspec": {
   "display_name": "Python 3 (ipykernel)",
   "language": "python",
   "name": "python3"
  },
  "language_info": {
   "codemirror_mode": {
    "name": "ipython",
    "version": 3
   },
   "file_extension": ".py",
   "mimetype": "text/x-python",
   "name": "python",
   "nbconvert_exporter": "python",
   "pygments_lexer": "ipython3",
   "version": "3.12.0"
  }
 },
 "nbformat": 4,
 "nbformat_minor": 5
}
